{
 "cells": [
  {
   "cell_type": "code",
   "execution_count": 1,
   "id": "cf7cd077-6511-4326-987a-ab640c3d83a3",
   "metadata": {
    "tags": []
   },
   "outputs": [],
   "source": [
    "%display latex\n",
    "from sage.symbolic.expression_conversions import Converter\n",
    "import operator\n",
    "conv = Converter()\n",
    "var(\"i i0 j j0\");"
   ]
  },
  {
   "cell_type": "code",
   "execution_count": 2,
   "id": "b159dffc-93a5-41cd-81ed-1bebf5560537",
   "metadata": {
    "tags": []
   },
   "outputs": [
    {
     "data": {
      "text/html": [
       "<html>\\(\\displaystyle \\left[\\left(-3\\right) \\leq j, j \\leq 2, 0 \\leq i + j, i \\leq 5\\right]\\)</html>"
      ],
      "text/latex": [
       "$\\displaystyle \\left[\\left(-3\\right) \\leq j, j \\leq 2, 0 \\leq i + j, i \\leq 5\\right]$"
      ],
      "text/plain": [
       "[-3 <= j, j <= 2, 0 <= i + j, i <= 5]"
      ]
     },
     "execution_count": 2,
     "metadata": {},
     "output_type": "execute_result"
    }
   ],
   "source": [
    "tile = [\n",
    "    -3 <= j,\n",
    "    j <= 2,\n",
    "    0 <= i + j,\n",
    "    i <= 5\n",
    "]\n",
    "tile"
   ]
  },
  {
   "cell_type": "code",
   "execution_count": 3,
   "id": "b49fa36f-7a55-4ec3-8d63-a265f1759dbb",
   "metadata": {
    "tags": []
   },
   "outputs": [],
   "source": [
    "mattile = Matrix([\n",
    "    [0, 1, 3],\n",
    "    [0, -1, 2],\n",
    "    [1, 1, 0],\n",
    "    [-1, 0, 5]\n",
    "])"
   ]
  },
  {
   "cell_type": "code",
   "execution_count": 4,
   "id": "c6b2d284-a743-48b7-97b9-959496ef5c5c",
   "metadata": {
    "tags": []
   },
   "outputs": [
    {
     "data": {
      "text/html": [
       "<html>\\(\\displaystyle \\left[0 \\leq j + 3, 0 \\leq -j + 2, 0 \\leq i + j, 0 \\leq -i + 5\\right]\\)</html>"
      ],
      "text/latex": [
       "$\\displaystyle \\left[0 \\leq j + 3, 0 \\leq -j + 2, 0 \\leq i + j, 0 \\leq -i + 5\\right]$"
      ],
      "text/plain": [
       "[0 <= j + 3, 0 <= -j + 2, 0 <= i + j, 0 <= -i + 5]"
      ]
     },
     "execution_count": 4,
     "metadata": {},
     "output_type": "execute_result"
    }
   ],
   "source": [
    "def mat2ineqs(m, vars):\n",
    "    result = []\n",
    "    nvars = len(vars)\n",
    "    vars_matrix = Matrix([vars])\n",
    "    for row in m:\n",
    "        lhs = row * vars_matrix.transpose()\n",
    "        result.append(0 <= lhs[0])\n",
    "    return result\n",
    "\n",
    "mtile = mat2ineqs(mattile, [i, j, 1])\n",
    "mtile"
   ]
  },
  {
   "cell_type": "code",
   "execution_count": 5,
   "id": "c96f8e13-74bc-4358-8270-02c22b8a15d3",
   "metadata": {
    "tags": []
   },
   "outputs": [
    {
     "data": {
      "text/html": [
       "<html>\\(\\displaystyle \\left[0 \\leq j + 3, 0 \\leq -j + 2, 0 \\leq i + j, 0 \\leq -i + 5\\right]\\)</html>"
      ],
      "text/latex": [
       "$\\displaystyle \\left[0 \\leq j + 3, 0 \\leq -j + 2, 0 \\leq i + j, 0 \\leq -i + 5\\right]$"
      ],
      "text/plain": [
       "[0 <= j + 3, 0 <= -j + 2, 0 <= i + j, 0 <= -i + 5]"
      ]
     },
     "execution_count": 5,
     "metadata": {},
     "output_type": "execute_result"
    }
   ],
   "source": [
    "def normalise(ineqs):\n",
    "    return [eq.operator()(eq.lhs() - eq.lhs(), eq.rhs() - eq.lhs()) for eq in ineqs]\n",
    "\n",
    "tile = normalise(tile)\n",
    "tile"
   ]
  },
  {
   "cell_type": "code",
   "execution_count": 9,
   "id": "50e5a3ec-4b98-4434-b5bd-83b4d5aa1490",
   "metadata": {
    "tags": []
   },
   "outputs": [
    {
     "data": {
      "text/html": [
       "<html>\\(\\displaystyle \\mathrm{True}\\)</html>"
      ],
      "text/latex": [
       "$\\displaystyle \\mathrm{True}$"
      ],
      "text/plain": [
       "True"
      ]
     },
     "execution_count": 9,
     "metadata": {},
     "output_type": "execute_result"
    }
   ],
   "source": [
    "all([t == m for m, t in zip(tile, mtile)])"
   ]
  },
  {
   "cell_type": "code",
   "execution_count": null,
   "id": "56d0ce46-779e-441a-9d6b-ef767940285e",
   "metadata": {},
   "outputs": [],
   "source": []
  }
 ],
 "metadata": {
  "kernelspec": {
   "display_name": "SageMath 9.8",
   "language": "sage",
   "name": "sagemath"
  },
  "language_info": {
   "codemirror_mode": {
    "name": "ipython",
    "version": 3
   },
   "file_extension": ".py",
   "mimetype": "text/x-python",
   "name": "python",
   "nbconvert_exporter": "python",
   "pygments_lexer": "ipython3",
   "version": "3.10.10"
  }
 },
 "nbformat": 4,
 "nbformat_minor": 5
}
