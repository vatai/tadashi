{
 "cells": [
  {
   "cell_type": "code",
   "execution_count": 1,
   "id": "cc6a2c76-2979-47d6-b83f-24b03fd901cf",
   "metadata": {
    "tags": []
   },
   "outputs": [],
   "source": [
    "%display latex\n",
    "lmbda = [var(f\"lambda_{i}\") for i in range(6)]\n",
    "ci, cj = var(\"c_i c_j\")\n",
    "symvars = var(\"N i j\");"
   ]
  },
  {
   "cell_type": "code",
   "execution_count": 2,
   "id": "b93eb9a6-6075-4b49-8010-2aaa8229702b",
   "metadata": {
    "tags": []
   },
   "outputs": [
    {
     "data": {
      "text/html": [
       "<html>\\(\\displaystyle {\\left(c_{i} - c_{j}\\right)} i - {\\left(c_{i} - c_{j}\\right)} j = {\\left(N - i\\right)} \\lambda_{1} + {\\left(N - j\\right)} \\lambda_{2} - {\\left(i - j + 1\\right)} \\lambda_{3} + {\\left(i - 1\\right)} \\lambda_{4} + {\\left(j - 1\\right)} \\lambda_{5} + \\lambda_{0}\\)</html>"
      ],
      "text/latex": [
       "$\\displaystyle {\\left(c_{i} - c_{j}\\right)} i - {\\left(c_{i} - c_{j}\\right)} j = {\\left(N - i\\right)} \\lambda_{1} + {\\left(N - j\\right)} \\lambda_{2} - {\\left(i - j + 1\\right)} \\lambda_{3} + {\\left(i - 1\\right)} \\lambda_{4} + {\\left(j - 1\\right)} \\lambda_{5} + \\lambda_{0}$"
      ],
      "text/plain": [
       "(c_i - c_j)*i - (c_i - c_j)*j == (N - i)*lambda_1 + (N - j)*lambda_2 - (i - j + 1)*lambda_3 + (i - 1)*lambda_4 + (j - 1)*lambda_5 + lambda_0"
      ]
     },
     "execution_count": 2,
     "metadata": {},
     "output_type": "execute_result"
    }
   ],
   "source": [
    "LHS = (ci - cj)*i + (cj - ci)*j\n",
    "rhs_coeffs = [1, N-i, N-j, j-i-1, i-1, j-1]\n",
    "RHS = sum([lmbda[i] * coeff for i, coeff in enumerate(rhs_coeffs)])\n",
    "LHS == RHS"
   ]
  },
  {
   "cell_type": "code",
   "execution_count": 3,
   "id": "8c256d59-fa26-4617-a7b8-69a7ae39d8b0",
   "metadata": {
    "tags": []
   },
   "outputs": [],
   "source": [
    "def get_eqns(LHS, RHS):\n",
    "    RHS = RHS.expand()\n",
    "    eqns = []\n",
    "    for sv in symvars:\n",
    "        lhs = LHS.coefficient(sv)\n",
    "        rhs = RHS.coefficient(sv)\n",
    "        eqns.append(lhs==rhs)\n",
    "        # print(f\"{sv}: {lhs==rhs}\")\n",
    "        LHS = LHS.expand() - (sv * lhs).expand()\n",
    "        RHS = RHS.expand() - (sv * rhs).expand()\n",
    "\n",
    "    # print(f\"const: {LHS.simplify()==RHS.simplify()}\")    \n",
    "    eqns.append(LHS==RHS)\n",
    "    return eqns\n",
    "\n",
    "\n",
    "def addeq(eqns, idx, term):\n",
    "    l = eqns[idx].lhs()\n",
    "    r = eqns[idx].rhs()\n",
    "    eqns[idx] = l + term == r + term\n",
    "\n",
    "\n",
    "def combeqs(eq1, eq2):\n",
    "    lhs = eq1.lhs() + eq2.lhs()\n",
    "    rhs = eq1.rhs() + eq2.rhs()\n",
    "    return lhs == rhs"
   ]
  },
  {
   "cell_type": "code",
   "execution_count": 4,
   "id": "aa5d9128-6c07-4d89-b599-47f7842fa611",
   "metadata": {
    "tags": []
   },
   "outputs": [
    {
     "data": {
      "text/html": [
       "<html>\\(\\displaystyle \\left[0 = \\lambda_{1} + \\lambda_{2}, c_{i} - c_{j} = -\\lambda_{1} - \\lambda_{3} + \\lambda_{4}, -c_{i} + c_{j} = -\\lambda_{2} + \\lambda_{3} + \\lambda_{5}, 0 = \\lambda_{0} - \\lambda_{3} - \\lambda_{4} - \\lambda_{5}\\right]\\)</html>"
      ],
      "text/latex": [
       "$\\displaystyle \\left[0 = \\lambda_{1} + \\lambda_{2}, c_{i} - c_{j} = -\\lambda_{1} - \\lambda_{3} + \\lambda_{4}, -c_{i} + c_{j} = -\\lambda_{2} + \\lambda_{3} + \\lambda_{5}, 0 = \\lambda_{0} - \\lambda_{3} - \\lambda_{4} - \\lambda_{5}\\right]$"
      ],
      "text/plain": [
       "[0 == lambda_1 + lambda_2,\n",
       " c_i - c_j == -lambda_1 - lambda_3 + lambda_4,\n",
       " -c_i + c_j == -lambda_2 + lambda_3 + lambda_5,\n",
       " 0 == lambda_0 - lambda_3 - lambda_4 - lambda_5]"
      ]
     },
     "execution_count": 4,
     "metadata": {},
     "output_type": "execute_result"
    }
   ],
   "source": [
    "eqns = get_eqns(LHS, RHS)\n",
    "eqns"
   ]
  },
  {
   "cell_type": "code",
   "execution_count": 5,
   "id": "7ea6908c-c860-45ac-af7c-15629d0ed3ca",
   "metadata": {
    "tags": []
   },
   "outputs": [
    {
     "data": {
      "text/html": [
       "<html>\\(\\displaystyle 0 = \\lambda_{1} + \\lambda_{2}\\)</html>"
      ],
      "text/latex": [
       "$\\displaystyle 0 = \\lambda_{1} + \\lambda_{2}$"
      ],
      "text/plain": [
       "0 == lambda_1 + lambda_2"
      ]
     },
     "execution_count": 5,
     "metadata": {},
     "output_type": "execute_result"
    }
   ],
   "source": [
    "eqns[0]"
   ]
  },
  {
   "cell_type": "code",
   "execution_count": 6,
   "id": "ed7ff374-4a33-4dc3-bbff-baf2d13b1c58",
   "metadata": {
    "tags": []
   },
   "outputs": [
    {
     "data": {
      "text/html": [
       "<html>\\(\\displaystyle -\\lambda_{1} = \\lambda_{2}\\)</html>"
      ],
      "text/latex": [
       "$\\displaystyle -\\lambda_{1} = \\lambda_{2}$"
      ],
      "text/plain": [
       "-lambda_1 == lambda_2"
      ]
     },
     "execution_count": 6,
     "metadata": {},
     "output_type": "execute_result"
    }
   ],
   "source": [
    "addeq(eqns, 0, -lmbda[1])\n",
    "eqns[0]"
   ]
  },
  {
   "cell_type": "code",
   "execution_count": 7,
   "id": "30d2466e-85dc-4f59-8adf-3388338c33ac",
   "metadata": {
    "tags": []
   },
   "outputs": [
    {
     "data": {
      "text/html": [
       "<html>\\(\\displaystyle c_{i} - c_{j} = -\\lambda_{1} - \\lambda_{3} + \\lambda_{4}\\)</html>"
      ],
      "text/latex": [
       "$\\displaystyle c_{i} - c_{j} = -\\lambda_{1} - \\lambda_{3} + \\lambda_{4}$"
      ],
      "text/plain": [
       "c_i - c_j == -lambda_1 - lambda_3 + lambda_4"
      ]
     },
     "execution_count": 7,
     "metadata": {},
     "output_type": "execute_result"
    }
   ],
   "source": [
    "eqns[1]"
   ]
  },
  {
   "cell_type": "code",
   "execution_count": 8,
   "id": "f9431ef9-3627-4f63-ab52-3913fafab267",
   "metadata": {
    "tags": []
   },
   "outputs": [
    {
     "data": {
      "text/html": [
       "<html>\\(\\displaystyle c_{i} - c_{j} = \\lambda_{2} - \\lambda_{3} + \\lambda_{4}\\)</html>"
      ],
      "text/latex": [
       "$\\displaystyle c_{i} - c_{j} = \\lambda_{2} - \\lambda_{3} + \\lambda_{4}$"
      ],
      "text/plain": [
       "c_i - c_j == lambda_2 - lambda_3 + lambda_4"
      ]
     },
     "execution_count": 8,
     "metadata": {},
     "output_type": "execute_result"
    }
   ],
   "source": [
    "eqns[1] = eqns[1].subs(eqns[0])\n",
    "eqns[1]"
   ]
  },
  {
   "cell_type": "code",
   "execution_count": 9,
   "id": "c8b53a29-5528-40f4-bfc7-2a61ba1e0fcf",
   "metadata": {
    "tags": []
   },
   "outputs": [
    {
     "data": {
      "text/html": [
       "<html>\\(\\displaystyle 0 = \\lambda_{4} + \\lambda_{5}\\)</html>"
      ],
      "text/latex": [
       "$\\displaystyle 0 = \\lambda_{4} + \\lambda_{5}$"
      ],
      "text/plain": [
       "0 == lambda_4 + lambda_5"
      ]
     },
     "execution_count": 9,
     "metadata": {},
     "output_type": "execute_result"
    }
   ],
   "source": [
    "eqns[1] = combeqs(eqns[1], eqns[2]);\n",
    "eqns[1]"
   ]
  },
  {
   "cell_type": "code",
   "execution_count": 10,
   "id": "83a87897-4b42-43a2-a3d5-42095279066a",
   "metadata": {
    "tags": []
   },
   "outputs": [
    {
     "data": {
      "text/html": [
       "<html>\\(\\displaystyle -\\lambda_{4} = \\lambda_{5}\\)</html>"
      ],
      "text/latex": [
       "$\\displaystyle -\\lambda_{4} = \\lambda_{5}$"
      ],
      "text/plain": [
       "-lambda_4 == lambda_5"
      ]
     },
     "execution_count": 10,
     "metadata": {},
     "output_type": "execute_result"
    }
   ],
   "source": [
    "addeq(eqns, 1, -lmbda[4])\n",
    "eqns[1]"
   ]
  },
  {
   "cell_type": "code",
   "execution_count": 11,
   "id": "44d70a52-98e2-404d-9608-068d35cb992a",
   "metadata": {
    "tags": []
   },
   "outputs": [
    {
     "data": {
      "text/html": [
       "<html>\\(\\displaystyle 0 = \\lambda_{0} - \\lambda_{3}\\)</html>"
      ],
      "text/latex": [
       "$\\displaystyle 0 = \\lambda_{0} - \\lambda_{3}$"
      ],
      "text/plain": [
       "0 == lambda_0 - lambda_3"
      ]
     },
     "execution_count": 11,
     "metadata": {},
     "output_type": "execute_result"
    }
   ],
   "source": [
    "eqns[3] = eqns[3].subs(eqns[1].lhs() == eqns[1].rhs())\n",
    "eqns[3]"
   ]
  },
  {
   "cell_type": "code",
   "execution_count": 12,
   "id": "b05195eb-94da-4031-b17f-44edcde4adf2",
   "metadata": {
    "tags": []
   },
   "outputs": [
    {
     "data": {
      "text/html": [
       "<html>\\(\\displaystyle \\lambda_{3} = \\lambda_{0}\\)</html>"
      ],
      "text/latex": [
       "$\\displaystyle \\lambda_{3} = \\lambda_{0}$"
      ],
      "text/plain": [
       "lambda_3 == lambda_0"
      ]
     },
     "execution_count": 12,
     "metadata": {},
     "output_type": "execute_result"
    }
   ],
   "source": [
    "addeq(eqns, 3, lmbda[3])\n",
    "eqns[3]"
   ]
  },
  {
   "cell_type": "code",
   "execution_count": 13,
   "id": "1c0222bd-964e-4843-983b-ca156b35db44",
   "metadata": {
    "tags": []
   },
   "outputs": [],
   "source": [
    "eqns[2] = eqns[2].subs(eqns[0].rhs() == eqns[0].lhs())"
   ]
  },
  {
   "cell_type": "code",
   "execution_count": 14,
   "id": "be8ac667-9631-486c-8ba0-9ebfc207a58b",
   "metadata": {
    "tags": []
   },
   "outputs": [
    {
     "name": "stdout",
     "output_type": "stream",
     "text": [
      "-lambda_1 == lambda_2\n",
      "-lambda_4 == lambda_5\n",
      "-c_i + c_j == lambda_1 + lambda_3 + lambda_5\n",
      "lambda_3 == lambda_0\n"
     ]
    }
   ],
   "source": [
    "for e in eqns:\n",
    "    print(e)"
   ]
  },
  {
   "cell_type": "markdown",
   "id": "0a8e1b0a-a263-45d8-8a86-cff3d5797173",
   "metadata": {},
   "source": [
    "$0 \\le \\lambda_1$ and $\\lambda_1 = - \\lambda_2$ implies $0 \\le -\\lambda_2$ which is equivalent to $0 \\ge \\lambda_2$ with $0 \\le \\lambda_2$ we get $\\lambda_2 = 0$ and $\\lambda_1 = -\\lambda_2 = 0$.\n",
    "\n",
    "Similarly, from $\\lambda_4 = -\\lambda_5$, $0 \\le \\lambda_4$ and $0 \\le \\lambda_5$ we get $\\lambda_4 = \\lambda_5 = 0$.\n",
    "\n",
    "Substituting these results into equation 2, we get:"
   ]
  },
  {
   "cell_type": "code",
   "execution_count": 15,
   "id": "0144a300-52ee-493f-91c8-44c13d8c1647",
   "metadata": {
    "tags": []
   },
   "outputs": [
    {
     "data": {
      "text/html": [
       "<html>\\(\\displaystyle -c_{i} + c_{j} = \\lambda_{3}\\)</html>"
      ],
      "text/latex": [
       "$\\displaystyle -c_{i} + c_{j} = \\lambda_{3}$"
      ],
      "text/plain": [
       "-c_i + c_j == lambda_3"
      ]
     },
     "execution_count": 15,
     "metadata": {},
     "output_type": "execute_result"
    }
   ],
   "source": [
    "eqns[2] = eqns[2].subs({lmbda[1]: 0, lmbda[5]: 0})\n",
    "eqns[2]"
   ]
  },
  {
   "cell_type": "markdown",
   "id": "c497c836-e12f-4fe9-b55f-60740a87832e",
   "metadata": {
    "tags": []
   },
   "source": [
    "which means:"
   ]
  },
  {
   "cell_type": "code",
   "execution_count": 16,
   "id": "5dfa77e7-8732-4e09-9c25-e3a1764002a7",
   "metadata": {
    "tags": []
   },
   "outputs": [
    {
     "data": {
      "text/html": [
       "<html>\\(\\displaystyle -c_{i} + c_{j} \\geq 0\\)</html>"
      ],
      "text/latex": [
       "$\\displaystyle -c_{i} + c_{j} \\geq 0$"
      ],
      "text/plain": [
       "-c_i + c_j >= 0"
      ]
     },
     "execution_count": 16,
     "metadata": {},
     "output_type": "execute_result"
    }
   ],
   "source": [
    "eqns[2].lhs() >= 0"
   ]
  },
  {
   "cell_type": "code",
   "execution_count": null,
   "id": "a3445964-1d1f-48a4-9d39-7b60b8a89808",
   "metadata": {},
   "outputs": [],
   "source": []
  }
 ],
 "metadata": {
  "kernelspec": {
   "display_name": "SageMath 9.8",
   "language": "sage",
   "name": "sagemath"
  },
  "language_info": {
   "codemirror_mode": {
    "name": "ipython",
    "version": 3
   },
   "file_extension": ".py",
   "mimetype": "text/x-python",
   "name": "python",
   "nbconvert_exporter": "python",
   "pygments_lexer": "ipython3",
   "version": "3.10.10"
  }
 },
 "nbformat": 4,
 "nbformat_minor": 5
}
